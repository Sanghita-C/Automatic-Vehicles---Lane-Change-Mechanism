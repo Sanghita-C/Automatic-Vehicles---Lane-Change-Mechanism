{
 "cells": [
  {
   "cell_type": "code",
   "execution_count": null,
   "metadata": {},
   "outputs": [],
   "source": [
    "from sumo_interfacer import Environment\n",
    "from Agent import Agent"
   ]
  },
  {
   "cell_type": "code",
   "execution_count": null,
   "metadata": {},
   "outputs": [],
   "source": [
    "N = 20 #Horizon the number of steps after which we perform an update\n",
    "batch_size = 5\n",
    "n_epochs = 10\n",
    "alpha = 0.0003\n",
    "\n",
    "env = Environment()\n",
    "\n",
    "agent = Agent(gamma=0.99, alpha=0.0003, gae_lambda=0.95, policy_clip=0.2, batch_size=batch_size, N=N, n_epochs=n_epochs)\n",
    "n_games = 300\n",
    "best_score = float('-inf')\n",
    "score_history = []\n",
    "\n",
    "learn_iters = 0\n",
    "avg_score = 0\n",
    "n_steps = 0"
   ]
  },
  {
   "cell_type": "code",
   "execution_count": null,
   "metadata": {},
   "outputs": [],
   "source": [
    "for i in range(n_games):\n",
    "    scenario = scenario_generator() #Need to code this\n",
    "    done = False\n",
    "    score = 0\n",
    "    while not done:\n",
    "        observation = get_state()\n",
    "        n_steps+=1\n",
    "        mu_steering, var_steering, steering, mu_acc, var_acc, acc, value = agent.choose_action(observation)\n",
    "        \n",
    "        prob_steering = agent.calc_log_prob(mu_steering, var_steering, steering)\n",
    "        prob_acc = agent.calc_log_prob(mu_acc, var_acc, acc)\n",
    "        \n",
    "        observation_, reward, done = env.step(steering, acc)\n",
    "        score += reward \n",
    "        agent.remember(observation, steering, prob_steering, acc, prob_acc, value, reward, done)\n",
    "        \n",
    "        if n_steps%N==0:\n",
    "            agent.learn()\n",
    "            learn_iters+=1\n",
    "        \n",
    "        observation = observation_\n",
    "    \n",
    "    score_history.append(score)\n",
    "    avg_score = np.mean(score_history[-100:])\n",
    "    \n",
    "    if best_score<=avg_score:\n",
    "        best_score = avg_score\n",
    "        agent.save_models()\n",
    "        \n",
    "    print(f'Episode: {n_games}, score: {avg_score}, time_steps: {n_steps}, learning_steps: {learn_iters}')        \n",
    "        \n",
    "    "
   ]
  },
  {
   "cell_type": "code",
   "execution_count": null,
   "metadata": {},
   "outputs": [],
   "source": []
  }
 ],
 "metadata": {
  "kernelspec": {
   "display_name": "tfgpu",
   "language": "python",
   "name": "tfgpu"
  },
  "language_info": {
   "codemirror_mode": {
    "name": "ipython",
    "version": 3
   },
   "file_extension": ".py",
   "mimetype": "text/x-python",
   "name": "python",
   "nbconvert_exporter": "python",
   "pygments_lexer": "ipython3",
   "version": "3.7.8"
  }
 },
 "nbformat": 4,
 "nbformat_minor": 4
}
